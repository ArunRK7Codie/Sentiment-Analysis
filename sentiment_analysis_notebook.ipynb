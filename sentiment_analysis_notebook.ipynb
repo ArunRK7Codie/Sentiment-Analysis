{
  "nbformat": 4,
  "nbformat_minor": 0,
  "metadata": {
    "colab": {
      "name": "sentiment_analysis_notebook.ipynb",
      "provenance": [],
      "collapsed_sections": [],
      "mount_file_id": "1xcn_mQxLK1tX6Pg0zVLtEPV_ua0ahtDY",
      "authorship_tag": "ABX9TyOGMSponp1EqNJSSkv8acku",
      "include_colab_link": true
    },
    "kernelspec": {
      "name": "python3",
      "display_name": "Python 3"
    },
    "accelerator": "GPU"
  },
  "cells": [
    {
      "cell_type": "markdown",
      "metadata": {
        "id": "view-in-github",
        "colab_type": "text"
      },
      "source": [
        "<a href=\"https://colab.research.google.com/github/ArunRK7Codie/Sentiment-Analysis/blob/master/sentiment_analysis_notebook.ipynb\" target=\"_parent\"><img src=\"https://colab.research.google.com/assets/colab-badge.svg\" alt=\"Open In Colab\"/></a>"
      ]
    },
    {
      "cell_type": "code",
      "metadata": {
        "id": "ej1Vmrdbh1Cr",
        "colab_type": "code",
        "outputId": "cdc93ed7-2561-4528-a44e-0456a601ff66",
        "colab": {
          "base_uri": "https://localhost:8080/",
          "height": 71
        }
      },
      "source": [
        "import tensorflow as tf\n",
        "import matplotlib.pyplot as plt\n",
        "import pandas as pd\n",
        "import numpy as np\n",
        "\n",
        "\n",
        "import nltk \n",
        "nltk.download('stopwords')\n",
        "from nltk.corpus import stopwords\n",
        "from nltk.stem import SnowballStemmer\n",
        "\n",
        "\n",
        "from keras.preprocessing.text import Tokenizer\n",
        "from keras.preprocessing.sequence import pad_sequences\n",
        "\n",
        "from sklearn.model_selection import train_test_split\n",
        "from sklearn.preprocessing import LabelEncoder\n",
        "\n",
        "\n",
        "import re"
      ],
      "execution_count": 0,
      "outputs": [
        {
          "output_type": "stream",
          "text": [
            "[nltk_data] Downloading package stopwords to /root/nltk_data...\n",
            "[nltk_data]   Unzipping corpora/stopwords.zip.\n"
          ],
          "name": "stdout"
        },
        {
          "output_type": "stream",
          "text": [
            "Using TensorFlow backend.\n"
          ],
          "name": "stderr"
        }
      ]
    },
    {
      "cell_type": "code",
      "metadata": {
        "id": "rqL3x4B5jsOw",
        "colab_type": "code",
        "colab": {}
      },
      "source": [
        "import requests\n",
        "r = requests.get(\"http://cs.stanford.edu/people/alecmgo/trainingandtestdata.zip\")\n",
        "with open('dataset.zip','wb') as f:\n",
        "  f.write(r.content)"
      ],
      "execution_count": 0,
      "outputs": []
    },
    {
      "cell_type": "code",
      "metadata": {
        "id": "u7A40z28kFdW",
        "colab_type": "code",
        "outputId": "438173f5-c218-436e-efe7-f9f51bf37bcd",
        "colab": {
          "base_uri": "https://localhost:8080/",
          "height": 35
        }
      },
      "source": [
        "from zipfile import ZipFile\n",
        "with ZipFile('dataset.zip', 'r') as zip:\n",
        "  zip.extractall()\n",
        "  print('Files Extracted')"
      ],
      "execution_count": 0,
      "outputs": [
        {
          "output_type": "stream",
          "text": [
            "Files Extracted\n"
          ],
          "name": "stdout"
        }
      ]
    },
    {
      "cell_type": "code",
      "metadata": {
        "id": "B0adTKHGGj7a",
        "colab_type": "code",
        "outputId": "f6fe31ee-0304-4ce3-9733-508b0b522ad2",
        "colab": {
          "base_uri": "https://localhost:8080/",
          "height": 204
        }
      },
      "source": [
        "df = pd.read_csv('/content/training.1600000.processed.noemoticon.csv',\n",
        "                 encoding = 'latin',header=None)\n",
        "df.head()"
      ],
      "execution_count": 0,
      "outputs": [
        {
          "output_type": "execute_result",
          "data": {
            "text/html": [
              "<div>\n",
              "<style scoped>\n",
              "    .dataframe tbody tr th:only-of-type {\n",
              "        vertical-align: middle;\n",
              "    }\n",
              "\n",
              "    .dataframe tbody tr th {\n",
              "        vertical-align: top;\n",
              "    }\n",
              "\n",
              "    .dataframe thead th {\n",
              "        text-align: right;\n",
              "    }\n",
              "</style>\n",
              "<table border=\"1\" class=\"dataframe\">\n",
              "  <thead>\n",
              "    <tr style=\"text-align: right;\">\n",
              "      <th></th>\n",
              "      <th>0</th>\n",
              "      <th>1</th>\n",
              "      <th>2</th>\n",
              "      <th>3</th>\n",
              "      <th>4</th>\n",
              "      <th>5</th>\n",
              "    </tr>\n",
              "  </thead>\n",
              "  <tbody>\n",
              "    <tr>\n",
              "      <th>0</th>\n",
              "      <td>0</td>\n",
              "      <td>1467810369</td>\n",
              "      <td>Mon Apr 06 22:19:45 PDT 2009</td>\n",
              "      <td>NO_QUERY</td>\n",
              "      <td>_TheSpecialOne_</td>\n",
              "      <td>@switchfoot http://twitpic.com/2y1zl - Awww, t...</td>\n",
              "    </tr>\n",
              "    <tr>\n",
              "      <th>1</th>\n",
              "      <td>0</td>\n",
              "      <td>1467810672</td>\n",
              "      <td>Mon Apr 06 22:19:49 PDT 2009</td>\n",
              "      <td>NO_QUERY</td>\n",
              "      <td>scotthamilton</td>\n",
              "      <td>is upset that he can't update his Facebook by ...</td>\n",
              "    </tr>\n",
              "    <tr>\n",
              "      <th>2</th>\n",
              "      <td>0</td>\n",
              "      <td>1467810917</td>\n",
              "      <td>Mon Apr 06 22:19:53 PDT 2009</td>\n",
              "      <td>NO_QUERY</td>\n",
              "      <td>mattycus</td>\n",
              "      <td>@Kenichan I dived many times for the ball. Man...</td>\n",
              "    </tr>\n",
              "    <tr>\n",
              "      <th>3</th>\n",
              "      <td>0</td>\n",
              "      <td>1467811184</td>\n",
              "      <td>Mon Apr 06 22:19:57 PDT 2009</td>\n",
              "      <td>NO_QUERY</td>\n",
              "      <td>ElleCTF</td>\n",
              "      <td>my whole body feels itchy and like its on fire</td>\n",
              "    </tr>\n",
              "    <tr>\n",
              "      <th>4</th>\n",
              "      <td>0</td>\n",
              "      <td>1467811193</td>\n",
              "      <td>Mon Apr 06 22:19:57 PDT 2009</td>\n",
              "      <td>NO_QUERY</td>\n",
              "      <td>Karoli</td>\n",
              "      <td>@nationwideclass no, it's not behaving at all....</td>\n",
              "    </tr>\n",
              "  </tbody>\n",
              "</table>\n",
              "</div>"
            ],
            "text/plain": [
              "   0  ...                                                  5\n",
              "0  0  ...  @switchfoot http://twitpic.com/2y1zl - Awww, t...\n",
              "1  0  ...  is upset that he can't update his Facebook by ...\n",
              "2  0  ...  @Kenichan I dived many times for the ball. Man...\n",
              "3  0  ...    my whole body feels itchy and like its on fire \n",
              "4  0  ...  @nationwideclass no, it's not behaving at all....\n",
              "\n",
              "[5 rows x 6 columns]"
            ]
          },
          "metadata": {
            "tags": []
          },
          "execution_count": 4
        }
      ]
    },
    {
      "cell_type": "code",
      "metadata": {
        "id": "l5po3MbiL0mb",
        "colab_type": "code",
        "outputId": "9e3101a7-d89a-4121-ad0e-88c3e72cfeb0",
        "colab": {
          "base_uri": "https://localhost:8080/",
          "height": 204
        }
      },
      "source": [
        "df.columns = ['sentiment', 'id', 'date', 'query', 'user_id', 'text']\n",
        "df.head()"
      ],
      "execution_count": 0,
      "outputs": [
        {
          "output_type": "execute_result",
          "data": {
            "text/html": [
              "<div>\n",
              "<style scoped>\n",
              "    .dataframe tbody tr th:only-of-type {\n",
              "        vertical-align: middle;\n",
              "    }\n",
              "\n",
              "    .dataframe tbody tr th {\n",
              "        vertical-align: top;\n",
              "    }\n",
              "\n",
              "    .dataframe thead th {\n",
              "        text-align: right;\n",
              "    }\n",
              "</style>\n",
              "<table border=\"1\" class=\"dataframe\">\n",
              "  <thead>\n",
              "    <tr style=\"text-align: right;\">\n",
              "      <th></th>\n",
              "      <th>sentiment</th>\n",
              "      <th>id</th>\n",
              "      <th>date</th>\n",
              "      <th>query</th>\n",
              "      <th>user_id</th>\n",
              "      <th>text</th>\n",
              "    </tr>\n",
              "  </thead>\n",
              "  <tbody>\n",
              "    <tr>\n",
              "      <th>0</th>\n",
              "      <td>0</td>\n",
              "      <td>1467810369</td>\n",
              "      <td>Mon Apr 06 22:19:45 PDT 2009</td>\n",
              "      <td>NO_QUERY</td>\n",
              "      <td>_TheSpecialOne_</td>\n",
              "      <td>@switchfoot http://twitpic.com/2y1zl - Awww, t...</td>\n",
              "    </tr>\n",
              "    <tr>\n",
              "      <th>1</th>\n",
              "      <td>0</td>\n",
              "      <td>1467810672</td>\n",
              "      <td>Mon Apr 06 22:19:49 PDT 2009</td>\n",
              "      <td>NO_QUERY</td>\n",
              "      <td>scotthamilton</td>\n",
              "      <td>is upset that he can't update his Facebook by ...</td>\n",
              "    </tr>\n",
              "    <tr>\n",
              "      <th>2</th>\n",
              "      <td>0</td>\n",
              "      <td>1467810917</td>\n",
              "      <td>Mon Apr 06 22:19:53 PDT 2009</td>\n",
              "      <td>NO_QUERY</td>\n",
              "      <td>mattycus</td>\n",
              "      <td>@Kenichan I dived many times for the ball. Man...</td>\n",
              "    </tr>\n",
              "    <tr>\n",
              "      <th>3</th>\n",
              "      <td>0</td>\n",
              "      <td>1467811184</td>\n",
              "      <td>Mon Apr 06 22:19:57 PDT 2009</td>\n",
              "      <td>NO_QUERY</td>\n",
              "      <td>ElleCTF</td>\n",
              "      <td>my whole body feels itchy and like its on fire</td>\n",
              "    </tr>\n",
              "    <tr>\n",
              "      <th>4</th>\n",
              "      <td>0</td>\n",
              "      <td>1467811193</td>\n",
              "      <td>Mon Apr 06 22:19:57 PDT 2009</td>\n",
              "      <td>NO_QUERY</td>\n",
              "      <td>Karoli</td>\n",
              "      <td>@nationwideclass no, it's not behaving at all....</td>\n",
              "    </tr>\n",
              "  </tbody>\n",
              "</table>\n",
              "</div>"
            ],
            "text/plain": [
              "   sentiment  ...                                               text\n",
              "0          0  ...  @switchfoot http://twitpic.com/2y1zl - Awww, t...\n",
              "1          0  ...  is upset that he can't update his Facebook by ...\n",
              "2          0  ...  @Kenichan I dived many times for the ball. Man...\n",
              "3          0  ...    my whole body feels itchy and like its on fire \n",
              "4          0  ...  @nationwideclass no, it's not behaving at all....\n",
              "\n",
              "[5 rows x 6 columns]"
            ]
          },
          "metadata": {
            "tags": []
          },
          "execution_count": 5
        }
      ]
    },
    {
      "cell_type": "code",
      "metadata": {
        "id": "lssiD2RQMsxc",
        "colab_type": "code",
        "colab": {}
      },
      "source": [
        "df = df.drop(['id', 'date', 'query', 'user_id'], axis=1)"
      ],
      "execution_count": 0,
      "outputs": []
    },
    {
      "cell_type": "code",
      "metadata": {
        "id": "cL17bzZiPFtN",
        "colab_type": "code",
        "colab": {}
      },
      "source": [
        "lab_to_sentiment = {0:\"Negative\", 4:\"Positive\"}\n",
        "def label_decoder(label):\n",
        "  return lab_to_sentiment[label]\n",
        "df.sentiment = df.sentiment.apply(lambda x: label_decoder(x))"
      ],
      "execution_count": 0,
      "outputs": []
    },
    {
      "cell_type": "code",
      "metadata": {
        "id": "AV4wS9uXGqlP",
        "colab_type": "code",
        "outputId": "3e5c37a0-cbd8-423e-fbdd-47aed9ba2cb3",
        "colab": {
          "base_uri": "https://localhost:8080/",
          "height": 204
        }
      },
      "source": [
        "df.head()"
      ],
      "execution_count": 0,
      "outputs": [
        {
          "output_type": "execute_result",
          "data": {
            "text/html": [
              "<div>\n",
              "<style scoped>\n",
              "    .dataframe tbody tr th:only-of-type {\n",
              "        vertical-align: middle;\n",
              "    }\n",
              "\n",
              "    .dataframe tbody tr th {\n",
              "        vertical-align: top;\n",
              "    }\n",
              "\n",
              "    .dataframe thead th {\n",
              "        text-align: right;\n",
              "    }\n",
              "</style>\n",
              "<table border=\"1\" class=\"dataframe\">\n",
              "  <thead>\n",
              "    <tr style=\"text-align: right;\">\n",
              "      <th></th>\n",
              "      <th>sentiment</th>\n",
              "      <th>text</th>\n",
              "    </tr>\n",
              "  </thead>\n",
              "  <tbody>\n",
              "    <tr>\n",
              "      <th>0</th>\n",
              "      <td>Negative</td>\n",
              "      <td>@switchfoot http://twitpic.com/2y1zl - Awww, t...</td>\n",
              "    </tr>\n",
              "    <tr>\n",
              "      <th>1</th>\n",
              "      <td>Negative</td>\n",
              "      <td>is upset that he can't update his Facebook by ...</td>\n",
              "    </tr>\n",
              "    <tr>\n",
              "      <th>2</th>\n",
              "      <td>Negative</td>\n",
              "      <td>@Kenichan I dived many times for the ball. Man...</td>\n",
              "    </tr>\n",
              "    <tr>\n",
              "      <th>3</th>\n",
              "      <td>Negative</td>\n",
              "      <td>my whole body feels itchy and like its on fire</td>\n",
              "    </tr>\n",
              "    <tr>\n",
              "      <th>4</th>\n",
              "      <td>Negative</td>\n",
              "      <td>@nationwideclass no, it's not behaving at all....</td>\n",
              "    </tr>\n",
              "  </tbody>\n",
              "</table>\n",
              "</div>"
            ],
            "text/plain": [
              "  sentiment                                               text\n",
              "0  Negative  @switchfoot http://twitpic.com/2y1zl - Awww, t...\n",
              "1  Negative  is upset that he can't update his Facebook by ...\n",
              "2  Negative  @Kenichan I dived many times for the ball. Man...\n",
              "3  Negative    my whole body feels itchy and like its on fire \n",
              "4  Negative  @nationwideclass no, it's not behaving at all...."
            ]
          },
          "metadata": {
            "tags": []
          },
          "execution_count": 8
        }
      ]
    },
    {
      "cell_type": "code",
      "metadata": {
        "id": "6uAGLkyQLzNh",
        "colab_type": "code",
        "outputId": "ca58cfc7-a714-4b2d-9e65-b21d180f80db",
        "colab": {
          "base_uri": "https://localhost:8080/",
          "height": 299
        }
      },
      "source": [
        "val_count = df.sentiment.value_counts()\n",
        "\n",
        "plt.figure(figsize=(8,4))\n",
        "plt.bar(val_count.index, val_count.values)\n",
        "plt.title(\"Sentiment Data Distribution\")"
      ],
      "execution_count": 0,
      "outputs": [
        {
          "output_type": "execute_result",
          "data": {
            "text/plain": [
              "Text(0.5, 1.0, 'Sentiment Data Distribution')"
            ]
          },
          "metadata": {
            "tags": []
          },
          "execution_count": 9
        },
        {
          "output_type": "display_data",
          "data": {
            "image/png": "[encoded data removed]",
            "text/plain": [
              "<Figure size 576x288 with 1 Axes>"
            ]
          },
          "metadata": {
            "tags": [],
            "needs_background": "light"
          }
        }
      ]
    },
    {
      "cell_type": "code",
      "metadata": {
        "id": "-GSdPRPpFm7k",
        "colab_type": "code",
        "outputId": "e83e8d24-87f7-49de-99f6-8b1333b43255",
        "colab": {
          "base_uri": "https://localhost:8080/",
          "height": 215
        }
      },
      "source": [
        "df.text.head(10)"
      ],
      "execution_count": 0,
      "outputs": [
        {
          "output_type": "execute_result",
          "data": {
            "text/plain": [
              "0    @switchfoot http://twitpic.com/2y1zl - Awww, t...\n",
              "1    is upset that he can't update his Facebook by ...\n",
              "2    @Kenichan I dived many times for the ball. Man...\n",
              "3      my whole body feels itchy and like its on fire \n",
              "4    @nationwideclass no, it's not behaving at all....\n",
              "5                        @Kwesidei not the whole crew \n",
              "6                                          Need a hug \n",
              "7    @LOLTrish hey  long time no see! Yes.. Rains a...\n",
              "8                 @Tatiana_K nope they didn't have it \n",
              "9                            @twittera que me muera ? \n",
              "Name: text, dtype: object"
            ]
          },
          "metadata": {
            "tags": []
          },
          "execution_count": 10
        }
      ]
    },
    {
      "cell_type": "code",
      "metadata": {
        "id": "t00MPV91M7Zw",
        "colab_type": "code",
        "colab": {}
      },
      "source": [
        "stop_words = stopwords.words('english')\n",
        "stemmer = SnowballStemmer('english')\n",
        "\n",
        "text_cleaning_re = \"@\\S+|https?:\\S+|http?:\\S|[^A-Za-z0-9]+\""
      ],
      "execution_count": 0,
      "outputs": []
    },
    {
      "cell_type": "code",
      "metadata": {
        "id": "Izdo8XuEQ0Tu",
        "colab_type": "code",
        "colab": {}
      },
      "source": [
        "def preprocess(text, stem=False):\n",
        "  text = re.sub(text_cleaning_re, ' ', str(text).lower()).strip()\n",
        "  tokens = []\n",
        "  for token in text.split():\n",
        "    if token not in stop_words:\n",
        "      if stem:\n",
        "        tokens.append(stemmer.stem(token))\n",
        "      else:\n",
        "        tokens.append(token)\n",
        "  return \" \".join(tokens)"
      ],
      "execution_count": 0,
      "outputs": []
    },
    {
      "cell_type": "code",
      "metadata": {
        "id": "MX-DPP9iSD-O",
        "colab_type": "code",
        "colab": {}
      },
      "source": [
        "df.text = df.text.apply(lambda x: preprocess(x))"
      ],
      "execution_count": 0,
      "outputs": []
    },
    {
      "cell_type": "code",
      "metadata": {
        "id": "cA4R-9wmbWhc",
        "colab_type": "code",
        "colab": {}
      },
      "source": [
        "from wordcloud import WordCloud\n",
        "plt.figure(figsize = (20,20)) \n",
        "wc = WordCloud(max_words = 2000 , width = 1600 , height = 800).generate(\" \".join(df[df.sentiment == 'Positive'].text))\n",
        "plt.imshow(wc , interpolation = 'bilinear')"
      ],
      "execution_count": 0,
      "outputs": []
    },
    {
      "cell_type": "code",
      "metadata": {
        "id": "A_liO0YQlXyV",
        "colab_type": "code",
        "colab": {}
      },
      "source": [
        "plt.figure(figsize = (20,20)) \n",
        "wc = WordCloud(max_words = 2000 , width = 1600 , height = 800).generate(\" \".join(df[df.sentiment == 'Negative'].text))\n",
        "plt.imshow(wc , interpolation = 'bilinear')"
      ],
      "execution_count": 0,
      "outputs": []
    },
    {
      "cell_type": "code",
      "metadata": {
        "id": "FiPUt--2S3K1",
        "colab_type": "code",
        "colab": {}
      },
      "source": [
        "TRAIN_SIZE = 0.8\n",
        "MAX_NB_WORDS = 100000\n",
        "MAX_SEQUENCE_LENGTH = 30\n"
      ],
      "execution_count": 0,
      "outputs": []
    },
    {
      "cell_type": "code",
      "metadata": {
        "id": "BNcfdCWmSLGO",
        "colab_type": "code",
        "outputId": "4be263d9-cbd2-4a34-daff-bbad6000a726",
        "colab": {
          "base_uri": "https://localhost:8080/",
          "height": 53
        }
      },
      "source": [
        "train_data, test_data = train_test_split(df, test_size=1-TRAIN_SIZE,\n",
        "                                         random_state=7)\n",
        "print(\"Train Data size:\", len(train_data))\n",
        "print(\"Test Data size\", len(test_data))"
      ],
      "execution_count": 0,
      "outputs": [
        {
          "output_type": "stream",
          "text": [
            "Train Data size: 1280000\n",
            "Test Data size 320000\n"
          ],
          "name": "stdout"
        }
      ]
    },
    {
      "cell_type": "code",
      "metadata": {
        "id": "R3lYTX7hGu2z",
        "colab_type": "code",
        "outputId": "90bd571f-63dc-4a75-ad18-3d0fc3ac2dbd",
        "colab": {
          "base_uri": "https://localhost:8080/",
          "height": 359
        }
      },
      "source": [
        "train_data.head(10)"
      ],
      "execution_count": 0,
      "outputs": [
        {
          "output_type": "execute_result",
          "data": {
            "text/html": [
              "<div>\n",
              "<style scoped>\n",
              "    .dataframe tbody tr th:only-of-type {\n",
              "        vertical-align: middle;\n",
              "    }\n",
              "\n",
              "    .dataframe tbody tr th {\n",
              "        vertical-align: top;\n",
              "    }\n",
              "\n",
              "    .dataframe thead th {\n",
              "        text-align: right;\n",
              "    }\n",
              "</style>\n",
              "<table border=\"1\" class=\"dataframe\">\n",
              "  <thead>\n",
              "    <tr style=\"text-align: right;\">\n",
              "      <th></th>\n",
              "      <th>sentiment</th>\n",
              "      <th>text</th>\n",
              "    </tr>\n",
              "  </thead>\n",
              "  <tbody>\n",
              "    <tr>\n",
              "      <th>23786</th>\n",
              "      <td>Negative</td>\n",
              "      <td>need friends</td>\n",
              "    </tr>\n",
              "    <tr>\n",
              "      <th>182699</th>\n",
              "      <td>Negative</td>\n",
              "      <td>im trying call impossible</td>\n",
              "    </tr>\n",
              "    <tr>\n",
              "      <th>476661</th>\n",
              "      <td>Negative</td>\n",
              "      <td>good pace going 3k 13 min missed 5k turn ended...</td>\n",
              "    </tr>\n",
              "    <tr>\n",
              "      <th>1181490</th>\n",
              "      <td>Positive</td>\n",
              "      <td>u gonna shows ny soon luv see u live</td>\n",
              "    </tr>\n",
              "    <tr>\n",
              "      <th>878773</th>\n",
              "      <td>Positive</td>\n",
              "      <td>hell yea get em tattoos ink free wish parents ...</td>\n",
              "    </tr>\n",
              "    <tr>\n",
              "      <th>130866</th>\n",
              "      <td>Negative</td>\n",
              "      <td>yeah need 2 see ur mom calls back first rememb...</td>\n",
              "    </tr>\n",
              "    <tr>\n",
              "      <th>1235876</th>\n",
              "      <td>Positive</td>\n",
              "      <td>sounds like cup tea sign</td>\n",
              "    </tr>\n",
              "    <tr>\n",
              "      <th>717314</th>\n",
              "      <td>Negative</td>\n",
              "      <td>tired want sleep wtf</td>\n",
              "    </tr>\n",
              "    <tr>\n",
              "      <th>969880</th>\n",
              "      <td>Positive</td>\n",
              "      <td>amazing wish</td>\n",
              "    </tr>\n",
              "    <tr>\n",
              "      <th>748698</th>\n",
              "      <td>Negative</td>\n",
              "      <td>thank god wkrn abc affiliate nashville back mi...</td>\n",
              "    </tr>\n",
              "  </tbody>\n",
              "</table>\n",
              "</div>"
            ],
            "text/plain": [
              "        sentiment                                               text\n",
              "23786    Negative                                       need friends\n",
              "182699   Negative                          im trying call impossible\n",
              "476661   Negative  good pace going 3k 13 min missed 5k turn ended...\n",
              "1181490  Positive               u gonna shows ny soon luv see u live\n",
              "878773   Positive  hell yea get em tattoos ink free wish parents ...\n",
              "130866   Negative  yeah need 2 see ur mom calls back first rememb...\n",
              "1235876  Positive                           sounds like cup tea sign\n",
              "717314   Negative                               tired want sleep wtf\n",
              "969880   Positive                                       amazing wish\n",
              "748698   Negative  thank god wkrn abc affiliate nashville back mi..."
            ]
          },
          "metadata": {
            "tags": []
          },
          "execution_count": 17
        }
      ]
    },
    {
      "cell_type": "code",
      "metadata": {
        "id": "aGAQ7I04G8Rg",
        "colab_type": "code",
        "outputId": "db90c31b-f307-49c1-e5c7-5f9ae53b7d95",
        "colab": {
          "base_uri": "https://localhost:8080/",
          "height": 197
        }
      },
      "source": [
        "print(\"Train_Data Distribution: \\n\",train_data.sentiment.value_counts())\n",
        "print(\"\\n\\nTest Data Distribution: \\n\", test_data.sentiment.value_counts())"
      ],
      "execution_count": 0,
      "outputs": [
        {
          "output_type": "stream",
          "text": [
            "Train_Data Distribution: \n",
            " Positive    640542\n",
            "Negative    639458\n",
            "Name: sentiment, dtype: int64\n",
            "\n",
            "\n",
            "Test Data Distribution: \n",
            " Negative    160542\n",
            "Positive    159458\n",
            "Name: sentiment, dtype: int64\n"
          ],
          "name": "stdout"
        }
      ]
    },
    {
      "cell_type": "code",
      "metadata": {
        "id": "uuxGOkxuTIoX",
        "colab_type": "code",
        "outputId": "4ccac2e8-4910-4002-f059-32dc1df447f0",
        "colab": {
          "base_uri": "https://localhost:8080/",
          "height": 35
        }
      },
      "source": [
        "tokenizer = Tokenizer()\n",
        "tokenizer.fit_on_texts(train_data.text)\n",
        "\n",
        "word_index = tokenizer.word_index\n",
        "vocab_size = len(tokenizer.word_index) + 1\n",
        "print(\"Vocabulary Size :\", vocab_size)"
      ],
      "execution_count": 0,
      "outputs": [
        {
          "output_type": "stream",
          "text": [
            "Vocabulary Size : 290575\n"
          ],
          "name": "stdout"
        }
      ]
    },
    {
      "cell_type": "code",
      "metadata": {
        "id": "aM1bHdCXWMRz",
        "colab_type": "code",
        "colab": {}
      },
      "source": [
        "x_train = pad_sequences(tokenizer.texts_to_sequences(train_data.text),\n",
        "                        maxlen = MAX_SEQUENCE_LENGTH)\n",
        "x_test = pad_sequences(tokenizer.texts_to_sequences(test_data.text),\n",
        "                       maxlen = MAX_SEQUENCE_LENGTH)"
      ],
      "execution_count": 0,
      "outputs": []
    },
    {
      "cell_type": "code",
      "metadata": {
        "id": "XaLUJukOILcE",
        "colab_type": "code",
        "outputId": "440a0aeb-4725-4580-89d2-869abbcfb9c6",
        "colab": {
          "base_uri": "https://localhost:8080/",
          "height": 53
        }
      },
      "source": [
        "print(\"Training X Shape:\",x_train.shape)\n",
        "print(\"Testing X Shape:\",x_test.shape)"
      ],
      "execution_count": 0,
      "outputs": [
        {
          "output_type": "stream",
          "text": [
            "Training X Shape: (1280000, 30)\n",
            "Testing X Shape: (320000, 30)\n"
          ],
          "name": "stdout"
        }
      ]
    },
    {
      "cell_type": "code",
      "metadata": {
        "id": "oLo5VGWeWxdn",
        "colab_type": "code",
        "outputId": "3382ee27-d765-46d9-b735-edee69933ff8",
        "colab": {
          "base_uri": "https://localhost:8080/",
          "height": 35
        }
      },
      "source": [
        "labels = train_data.sentiment.unique().tolist()\n",
        "labels.append('Neutral')\n",
        "labels"
      ],
      "execution_count": 0,
      "outputs": [
        {
          "output_type": "execute_result",
          "data": {
            "text/plain": [
              "['Negative', 'Positive', 'Neutral']"
            ]
          },
          "metadata": {
            "tags": []
          },
          "execution_count": 22
        }
      ]
    },
    {
      "cell_type": "code",
      "metadata": {
        "id": "nhQEUL5RXJoH",
        "colab_type": "code",
        "outputId": "23273a1d-5487-4a93-d69d-a08c061709b6",
        "colab": {
          "base_uri": "https://localhost:8080/",
          "height": 53
        }
      },
      "source": [
        "encoder = LabelEncoder()\n",
        "encoder.fit(train_data.sentiment.to_list())\n",
        "\n",
        "y_train = encoder.transform(train_data.sentiment.to_list())\n",
        "y_test = encoder.transform(test_data.sentiment.to_list())\n",
        "\n",
        "y_train = y_train.reshape(-1,1)\n",
        "y_test = y_test.reshape(-1,1)\n",
        "\n",
        "print(\"y_train shape:\", y_train.shape)\n",
        "print(\"y_test shape:\", y_test.shape)"
      ],
      "execution_count": 0,
      "outputs": [
        {
          "output_type": "stream",
          "text": [
            "y_train shape: (1280000, 1)\n",
            "y_test shape: (320000, 1)\n"
          ],
          "name": "stdout"
        }
      ]
    },
    {
      "cell_type": "code",
      "metadata": {
        "id": "gGK228HaX_IY",
        "colab_type": "code",
        "outputId": "3f9a5228-fcf5-477a-ec95-815fa45843f2",
        "colab": {
          "base_uri": "https://localhost:8080/",
          "height": 467
        }
      },
      "source": [
        "!wget http://nlp.stanford.edu/data/glove.6B.zip\n",
        "!unzip glove.6B.zip"
      ],
      "execution_count": 0,
      "outputs": [
        {
          "output_type": "stream",
          "text": [
            "--2020-05-13 09:07:13--  http://nlp.stanford.edu/data/glove.6B.zip\n",
            "Resolving nlp.stanford.edu (nlp.stanford.edu)... 171.64.67.140\n",
            "Connecting to nlp.stanford.edu (nlp.stanford.edu)|171.64.67.140|:80... connected.\n",
            "HTTP request sent, awaiting response... 302 Found\n",
            "Location: https://nlp.stanford.edu/data/glove.6B.zip [following]\n",
            "--2020-05-13 09:07:13--  https://nlp.stanford.edu/data/glove.6B.zip\n",
            "Connecting to nlp.stanford.edu (nlp.stanford.edu)|171.64.67.140|:443... connected.\n",
            "HTTP request sent, awaiting response... 301 Moved Permanently\n",
            "Location: http://downloads.cs.stanford.edu/nlp/data/glove.6B.zip [following]\n",
            "--2020-05-13 09:07:13--  http://downloads.cs.stanford.edu/nlp/data/glove.6B.zip\n",
            "Resolving downloads.cs.stanford.edu (downloads.cs.stanford.edu)... 171.64.64.22\n",
            "Connecting to downloads.cs.stanford.edu (downloads.cs.stanford.edu)|171.64.64.22|:80... connected.\n",
            "HTTP request sent, awaiting response... 200 OK\n",
            "Length: 862182613 (822M) [application/zip]\n",
            "Saving to: ‘glove.6B.zip’\n",
            "\n",
            "glove.6B.zip        100%[===================>] 822.24M  2.00MB/s    in 6m 30s  \n",
            "\n",
            "2020-05-13 09:13:43 (2.11 MB/s) - ‘glove.6B.zip’ saved [862182613/862182613]\n",
            "\n",
            "Archive:  glove.6B.zip\n",
            "  inflating: glove.6B.50d.txt        \n",
            "  inflating: glove.6B.100d.txt       \n",
            "  inflating: glove.6B.200d.txt       \n",
            "  inflating: glove.6B.300d.txt       \n"
          ],
          "name": "stdout"
        }
      ]
    },
    {
      "cell_type": "code",
      "metadata": {
        "id": "Ha-7BByj0mv4",
        "colab_type": "code",
        "colab": {}
      },
      "source": [
        "GLOVE_EMB = '/content/glove.6B.300d.txt'\n",
        "EMBEDDING_DIM = 300\n",
        "LR = 1e-3\n",
        "BATCH_SIZE = 2056\n",
        "EPOCHS = 20\n",
        "MODEL_PATH = '/content/drive/My Drive/Dev/sentiment-classification/10_05_best_model.hdf5'"
      ],
      "execution_count": 0,
      "outputs": []
    },
    {
      "cell_type": "code",
      "metadata": {
        "id": "jtxwnII_yfg8",
        "colab_type": "code",
        "outputId": "94d24028-2a55-4b1e-9664-d172ad8b1e3d",
        "colab": {
          "base_uri": "https://localhost:8080/",
          "height": 35
        }
      },
      "source": [
        "embeddings_index = {}\n",
        "\n",
        "f = open(GLOVE_EMB)\n",
        "for line in f:\n",
        "  values = line.split()\n",
        "  word = value = values[0]\n",
        "  coefs = np.asarray(values[1:], dtype='float32')\n",
        "  embeddings_index[word] = coefs\n",
        "f.close()\n",
        "\n",
        "print('Found %s word vectors.' %len(embeddings_index))"
      ],
      "execution_count": 0,
      "outputs": [
        {
          "output_type": "stream",
          "text": [
            "Found 400000 word vectors.\n"
          ],
          "name": "stdout"
        }
      ]
    },
    {
      "cell_type": "code",
      "metadata": {
        "id": "KVMsB1ps1OFS",
        "colab_type": "code",
        "colab": {}
      },
      "source": [
        "embedding_matrix = np.zeros((vocab_size, EMBEDDING_DIM))\n",
        "for word, i in word_index.items():\n",
        "  embedding_vector = embeddings_index.get(word)\n",
        "  if embedding_vector is not None:\n",
        "    embedding_matrix[i] = embedding_vector"
      ],
      "execution_count": 0,
      "outputs": []
    },
    {
      "cell_type": "code",
      "metadata": {
        "id": "2Z527v-y2DLG",
        "colab_type": "code",
        "colab": {}
      },
      "source": [
        "embedding_layer = tf.keras.layers.Embedding(vocab_size,\n",
        "                                          EMBEDDING_DIM,\n",
        "                                          weights=[embedding_matrix],\n",
        "                                          input_length=MAX_SEQUENCE_LENGTH,\n",
        "                                          trainable=False)"
      ],
      "execution_count": 0,
      "outputs": []
    },
    {
      "cell_type": "code",
      "metadata": {
        "id": "G0hA8RSg4-1G",
        "colab_type": "code",
        "colab": {}
      },
      "source": [
        "from tensorflow.keras.layers import Conv1D, Bidirectional, LSTM, Dense, Input, Dropout\n",
        "from tensorflow.keras.layers import SpatialDropout1D\n",
        "from tensorflow.keras.callbacks import ModelCheckpoint"
      ],
      "execution_count": 0,
      "outputs": []
    },
    {
      "cell_type": "code",
      "metadata": {
        "id": "VV3ay2--3RHP",
        "colab_type": "code",
        "outputId": "5fc5f2c0-f98c-43c4-a0ac-732f55bf9493",
        "colab": {
          "base_uri": "https://localhost:8080/",
          "height": 91
        }
      },
      "source": [
        "sequence_input = Input(shape=(MAX_SEQUENCE_LENGTH,), dtype='int32')\n",
        "embedding_sequences = embedding_layer(sequence_input)\n",
        "x = SpatialDropout1D(0.2)(embedding_sequences)\n",
        "x = Conv1D(64, 5, activation='relu')(x)\n",
        "x = Bidirectional(LSTM(64, dropout=0.2, recurrent_dropout=0.2))(x)\n",
        "x = Dense(512, activation='relu')(x)\n",
        "x = Dropout(0.5)(x)\n",
        "x = Dense(512, activation='relu')(x)\n",
        "outputs = Dense(1, activation='sigmoid')(x)\n",
        "model = tf.keras.Model(sequence_input, outputs)"
      ],
      "execution_count": 0,
      "outputs": [
        {
          "output_type": "stream",
          "text": [
            "WARNING:tensorflow:Layer lstm_2 will not use cuDNN kernel since it doesn't meet the cuDNN kernel criteria. It will use generic GPU kernel as fallback when running on GPU\n",
            "WARNING:tensorflow:Layer lstm_2 will not use cuDNN kernel since it doesn't meet the cuDNN kernel criteria. It will use generic GPU kernel as fallback when running on GPU\n",
            "WARNING:tensorflow:Layer lstm_2 will not use cuDNN kernel since it doesn't meet the cuDNN kernel criteria. It will use generic GPU kernel as fallback when running on GPU\n"
          ],
          "name": "stdout"
        }
      ]
    },
    {
      "cell_type": "code",
      "metadata": {
        "id": "9z3Y6eMpuAUS",
        "colab_type": "code",
        "outputId": "4e34ca11-a7ac-4a98-d6cc-73dac5fdc341",
        "colab": {
          "base_uri": "https://localhost:8080/",
          "height": 242
        }
      },
      "source": [
        "from tensorflow.keras.optimizers import Adam\n",
        "from tensorflow.keras.callbacks import ReduceLROnPlateau\n",
        "model.compile(optimizer=Adam(learning_rate=LR), loss='binary_crossentropy',\n",
        "              metrics=['accuracy'])\n",
        "def scheduler(epoch):\n",
        "  if epoch<10:\n",
        "    return LR\n",
        "  else:\n",
        "    return LR * tf.math.exp(0.1 * (10 - epoch))\n",
        "\n",
        "checkpoint = ModelCheckpoint(filepath=MODEL_PATH,\n",
        "                             save_best_only=True,\n",
        "                             mode='min',\n",
        "                             verbose=1,\n",
        "                             monitor='val_loss')\n",
        "\n",
        "LRscheduler = tf.keras.callbacks.LearningRateScheduler(scheduler)\n",
        "    "
      ],
      "execution_count": 0,
      "outputs": [
        {
          "output_type": "error",
          "ename": "NameError",
          "evalue": "ignored",
          "traceback": [
            "\u001b[0;31m---------------------------------------------------------------------------\u001b[0m",
            "\u001b[0;31mNameError\u001b[0m                                 Traceback (most recent call last)",
            "\u001b[0;32m<ipython-input-1-d45f35c1f604>\u001b[0m in \u001b[0;36m<module>\u001b[0;34m()\u001b[0m\n\u001b[1;32m      1\u001b[0m \u001b[0;32mfrom\u001b[0m \u001b[0mtensorflow\u001b[0m\u001b[0;34m.\u001b[0m\u001b[0mkeras\u001b[0m\u001b[0;34m.\u001b[0m\u001b[0moptimizers\u001b[0m \u001b[0;32mimport\u001b[0m \u001b[0mAdam\u001b[0m\u001b[0;34m\u001b[0m\u001b[0;34m\u001b[0m\u001b[0m\n\u001b[1;32m      2\u001b[0m \u001b[0;32mfrom\u001b[0m \u001b[0mtensorflow\u001b[0m\u001b[0;34m.\u001b[0m\u001b[0mkeras\u001b[0m\u001b[0;34m.\u001b[0m\u001b[0mcallbacks\u001b[0m \u001b[0;32mimport\u001b[0m \u001b[0mReduceLROnPlateau\u001b[0m\u001b[0;34m\u001b[0m\u001b[0;34m\u001b[0m\u001b[0m\n\u001b[0;32m----> 3\u001b[0;31m model.compile(optimizer=Adam(learning_rate=LR), loss='binary_crossentropy',\n\u001b[0m\u001b[1;32m      4\u001b[0m               metrics=['accuracy'])\n\u001b[1;32m      5\u001b[0m \u001b[0;32mdef\u001b[0m \u001b[0mscheduler\u001b[0m\u001b[0;34m(\u001b[0m\u001b[0mepoch\u001b[0m\u001b[0;34m)\u001b[0m\u001b[0;34m:\u001b[0m\u001b[0;34m\u001b[0m\u001b[0;34m\u001b[0m\u001b[0m\n",
            "\u001b[0;31mNameError\u001b[0m: name 'model' is not defined"
          ]
        }
      ]
    },
    {
      "cell_type": "code",
      "metadata": {
        "id": "i-dp7gaO5qJy",
        "colab_type": "code",
        "outputId": "b4990cf6-9424-4f72-a768-b91b1eab43d6",
        "colab": {
          "base_uri": "https://localhost:8080/",
          "height": 629
        }
      },
      "source": [
        "history = model.fit(x_train, y_train, batch_size=BATCH_SIZE, epochs=EPOCHS,\n",
        "                    validation_data=(x_test, y_test), callbacks=[checkpoint, LRscheduler])"
      ],
      "execution_count": 0,
      "outputs": [
        {
          "output_type": "stream",
          "text": [
            "Epoch 1/20\n",
            "623/623 [==============================] - ETA: 0s - loss: 0.5256 - accuracy: 0.7334\n",
            "Epoch 00001: val_loss improved from inf to 0.48764, saving model to /content/drive/My Drive/Dev/sentiment-classification/10_05_best_model.hdf5\n",
            "623/623 [==============================] - 178s 286ms/step - loss: 0.5256 - accuracy: 0.7334 - val_loss: 0.4876 - val_accuracy: 0.7621 - lr: 0.0010\n",
            "Epoch 2/20\n",
            "623/623 [==============================] - ETA: 0s - loss: 0.4915 - accuracy: 0.7595\n",
            "Epoch 00002: val_loss improved from 0.48764 to 0.47662, saving model to /content/drive/My Drive/Dev/sentiment-classification/10_05_best_model.hdf5\n",
            "623/623 [==============================] - 180s 289ms/step - loss: 0.4915 - accuracy: 0.7595 - val_loss: 0.4766 - val_accuracy: 0.7704 - lr: 0.0010\n",
            "Epoch 3/20\n",
            "623/623 [==============================] - ETA: 0s - loss: 0.4806 - accuracy: 0.7665\n",
            "Epoch 00003: val_loss improved from 0.47662 to 0.46903, saving model to /content/drive/My Drive/Dev/sentiment-classification/10_05_best_model.hdf5\n",
            "623/623 [==============================] - 179s 288ms/step - loss: 0.4806 - accuracy: 0.7665 - val_loss: 0.4690 - val_accuracy: 0.7754 - lr: 0.0010\n",
            "Epoch 4/20\n",
            "623/623 [==============================] - ETA: 0s - loss: 0.4743 - accuracy: 0.7709\n",
            "Epoch 00004: val_loss improved from 0.46903 to 0.46730, saving model to /content/drive/My Drive/Dev/sentiment-classification/10_05_best_model.hdf5\n",
            "623/623 [==============================] - 181s 290ms/step - loss: 0.4743 - accuracy: 0.7709 - val_loss: 0.4673 - val_accuracy: 0.7763 - lr: 0.0010\n",
            "Epoch 5/20\n",
            "623/623 [==============================] - ETA: 0s - loss: 0.4693 - accuracy: 0.7739\n",
            "Epoch 00005: val_loss improved from 0.46730 to 0.46309, saving model to /content/drive/My Drive/Dev/sentiment-classification/10_05_best_model.hdf5\n",
            "623/623 [==============================] - 179s 287ms/step - loss: 0.4693 - accuracy: 0.7739 - val_loss: 0.4631 - val_accuracy: 0.7784 - lr: 0.0010\n",
            "Epoch 6/20\n",
            "623/623 [==============================] - ETA: 0s - loss: 0.4659 - accuracy: 0.7761\n",
            "Epoch 00006: val_loss improved from 0.46309 to 0.46126, saving model to /content/drive/My Drive/Dev/sentiment-classification/10_05_best_model.hdf5\n",
            "623/623 [==============================] - 183s 294ms/step - loss: 0.4659 - accuracy: 0.7761 - val_loss: 0.4613 - val_accuracy: 0.7795 - lr: 0.0010\n",
            "Epoch 7/20\n",
            "623/623 [==============================] - ETA: 0s - loss: 0.4628 - accuracy: 0.7783\n",
            "Epoch 00007: val_loss did not improve from 0.46126\n",
            "623/623 [==============================] - 176s 283ms/step - loss: 0.4628 - accuracy: 0.7783 - val_loss: 0.4617 - val_accuracy: 0.7795 - lr: 0.0010\n",
            "Epoch 8/20\n",
            "623/623 [==============================] - ETA: 0s - loss: 0.4609 - accuracy: 0.7794\n",
            "Epoch 00008: val_loss improved from 0.46126 to 0.45998, saving model to /content/drive/My Drive/Dev/sentiment-classification/10_05_best_model.hdf5\n",
            "623/623 [==============================] - 180s 290ms/step - loss: 0.4609 - accuracy: 0.7794 - val_loss: 0.4600 - val_accuracy: 0.7801 - lr: 0.0010\n",
            "Epoch 9/20\n",
            "257/623 [===========>..................] - ETA: 1:40 - loss: 0.4575 - accuracy: 0.7809"
          ],
          "name": "stdout"
        }
      ]
    },
    {
      "cell_type": "code",
      "metadata": {
        "id": "kBucfSHqhjDb",
        "colab_type": "code",
        "outputId": "39d3fc30-7400-490f-ab38-902cbfe8552e",
        "colab": {
          "base_uri": "https://localhost:8080/",
          "height": 313
        }
      },
      "source": [
        "plt.plot(history.history['accuracy'], c= 'b')\n",
        "plt.plot(history.history['val_accuracy'], c='r')\n",
        "plt.title('model accuracy')\n",
        "plt.ylabel('accuracy')\n",
        "plt.xlabel('epoch')\n",
        "plt.legend(['LSTM_train', 'LSTM_val'], loc='upper left')"
      ],
      "execution_count": 0,
      "outputs": [
        {
          "output_type": "execute_result",
          "data": {
            "text/plain": [
              "<matplotlib.legend.Legend at 0x7f55942b9b00>"
            ]
          },
          "metadata": {
            "tags": []
          },
          "execution_count": 36
        },
        {
          "output_type": "display_data",
          "data": {
            "image/png": "[encoded data removed]",
            "text/plain": [
              "<Figure size 432x288 with 1 Axes>"
            ]
          },
          "metadata": {
            "tags": [],
            "needs_background": "light"
          }
        }
      ]
    },
    {
      "cell_type": "code",
      "metadata": {
        "id": "NZ98h1JKsZlw",
        "colab_type": "code",
        "colab": {}
      },
      "source": [
        "import pickle \n",
        "#saving Tokenizer() object for Text Tokenizer on later use and deployment\n",
        "TOKENIZER_PATH = '/content/drive/My Drive/Dev/sentiment-classification/tokenizer_obj.pickle'\n",
        "with open(TOKENIZER_PATH, 'wb') as handle:\n",
        "  pickle.dump(tokenizer, handle, protocol=pickle.HIGHEST_PROTOCOL)"
      ],
      "execution_count": 0,
      "outputs": []
    },
    {
      "cell_type": "code",
      "metadata": {
        "id": "EyuPcnAo7rxF",
        "colab_type": "code",
        "outputId": "4aac6fdc-5ff9-45df-967e-c242091884a9",
        "colab": {
          "base_uri": "https://localhost:8080/",
          "height": 91
        }
      },
      "source": [
        "with open(TOKENIZER_PATH,'rb') as handle:\n",
        "  tokenizer = pickle.load(handle)\n",
        "\n",
        "model = tf.keras.models.load_model(MODEL_PATH)"
      ],
      "execution_count": 0,
      "outputs": [
        {
          "output_type": "stream",
          "text": [
            "WARNING:tensorflow:Layer lstm_1 will not use cuDNN kernel since it doesn't meet the cuDNN kernel criteria. It will use generic GPU kernel as fallback when running on GPU\n",
            "WARNING:tensorflow:Layer lstm_1 will not use cuDNN kernel since it doesn't meet the cuDNN kernel criteria. It will use generic GPU kernel as fallback when running on GPU\n",
            "WARNING:tensorflow:Layer lstm_1 will not use cuDNN kernel since it doesn't meet the cuDNN kernel criteria. It will use generic GPU kernel as fallback when running on GPU\n"
          ],
          "name": "stdout"
        }
      ]
    },
    {
      "cell_type": "code",
      "metadata": {
        "id": "lbZ161ewagmQ",
        "colab_type": "code",
        "colab": {}
      },
      "source": [
        "SENTIMENT_THRESHOLDS = (0.4, 0.7)"
      ],
      "execution_count": 0,
      "outputs": []
    },
    {
      "cell_type": "code",
      "metadata": {
        "id": "ysVbRFm1XzbY",
        "colab_type": "code",
        "colab": {}
      },
      "source": [
        "def decode_sentiment(score, include_neutral=True):\n",
        "    if include_neutral:        \n",
        "        label = 'Neutral'\n",
        "        if score <= SENTIMENT_THRESHOLDS[0]:\n",
        "            label = 'Negative'\n",
        "        elif score >= SENTIMENT_THRESHOLDS[1]:\n",
        "            label = \"Positive\"\n",
        "\n",
        "        return label\n",
        "    else:\n",
        "        return 'Negative' if score < 0.5 else 'Positive'"
      ],
      "execution_count": 0,
      "outputs": []
    },
    {
      "cell_type": "code",
      "metadata": {
        "id": "-EK0O7VhZzi4",
        "colab_type": "code",
        "colab": {}
      },
      "source": [
        "def predict(text, include_neutral=True):\n",
        "    # Tokenize text\n",
        "    x_test = pad_sequences(tokenizer.texts_to_sequences([text]), maxlen=MAX_SEQUENCE_LENGTH)\n",
        "    # Predict\n",
        "    score = model.predict([x_test])[0]\n",
        "    # Decode sentiment\n",
        "    label = decode_sentiment(score, include_neutral=include_neutral)\n",
        "\n",
        "    return {\"label\": label, \"score\": float(score)}  "
      ],
      "execution_count": 0,
      "outputs": []
    },
    {
      "cell_type": "code",
      "metadata": {
        "id": "vy1F4-gDYAut",
        "colab_type": "code",
        "outputId": "a847348b-a370-4c3f-9fdf-a2e8af3ffe41",
        "colab": {
          "base_uri": "https://localhost:8080/",
          "height": 35
        }
      },
      "source": [
        "scores = model.predict(x_test, verbose=1, batch_size=10000)\n",
        "y_pred_1d = [decode_sentiment(score, include_neutral=False) for score in scores]"
      ],
      "execution_count": 0,
      "outputs": [
        {
          "output_type": "stream",
          "text": [
            "32/32 [==============================] - 12s 369ms/step\n"
          ],
          "name": "stdout"
        }
      ]
    },
    {
      "cell_type": "code",
      "metadata": {
        "id": "fSdW1PqnW7G6",
        "colab_type": "code",
        "colab": {}
      },
      "source": [
        "import itertools\n",
        "from sklearn.metrics import confusion_matrix, classification_report, accuracy_score\n",
        "def plot_confusion_matrix(cm, classes,\n",
        "                          title='Confusion matrix',\n",
        "                          cmap=plt.cm.Blues):\n",
        "    \"\"\"\n",
        "    This function prints and plots the confusion matrix.\n",
        "    Normalization can be applied by setting `normalize=True`.\n",
        "    \"\"\"\n",
        "\n",
        "    cm = cm.astype('float') / cm.sum(axis=1)[:, np.newaxis]\n",
        "\n",
        "    plt.imshow(cm, interpolation='nearest', cmap=cmap)\n",
        "    plt.title(title, fontsize=20)\n",
        "    plt.colorbar()\n",
        "    tick_marks = np.arange(len(classes))\n",
        "    plt.xticks(tick_marks, classes, fontsize=13)\n",
        "    plt.yticks(tick_marks, classes, fontsize=13)\n",
        "\n",
        "    fmt = '.2f'\n",
        "    thresh = cm.max() / 2.\n",
        "    for i, j in itertools.product(range(cm.shape[0]), range(cm.shape[1])):\n",
        "        plt.text(j, i, format(cm[i, j], fmt),\n",
        "                 horizontalalignment=\"center\",\n",
        "                 color=\"white\" if cm[i, j] > thresh else \"black\")\n",
        "\n",
        "    plt.ylabel('True label', fontsize=17)\n",
        "    plt.xlabel('Predicted label', fontsize=17)"
      ],
      "execution_count": 0,
      "outputs": []
    },
    {
      "cell_type": "code",
      "metadata": {
        "id": "w5ZaUjUfW8En",
        "colab_type": "code",
        "outputId": "045b4737-9419-4c8e-f6c2-d4f8fc5322e3",
        "colab": {
          "base_uri": "https://localhost:8080/",
          "height": 370
        }
      },
      "source": [
        "cnf_matrix = confusion_matrix(test_data.sentiment.to_list(), y_pred_1d)\n",
        "plt.figure(figsize=(6,6))\n",
        "plot_confusion_matrix(cnf_matrix, classes=test_data.sentiment.unique(), title=\"Confusion matrix\")\n",
        "plt.show()"
      ],
      "execution_count": 0,
      "outputs": [
        {
          "output_type": "display_data",
          "data": {
            "image/png": "[encoded data removed]",
            "text/plain": [
              "<Figure size 432x432 with 2 Axes>"
            ]
          },
          "metadata": {
            "tags": [],
            "needs_background": "light"
          }
        }
      ]
    },
    {
      "cell_type": "code",
      "metadata": {
        "id": "kWOsRkur9xEZ",
        "colab_type": "code",
        "outputId": "415ed819-466e-452f-c07b-c08c883f50af",
        "colab": {
          "base_uri": "https://localhost:8080/",
          "height": 179
        }
      },
      "source": [
        "print(classification_report(list(test_data.sentiment), y_pred_1d))"
      ],
      "execution_count": 0,
      "outputs": [
        {
          "output_type": "stream",
          "text": [
            "              precision    recall  f1-score   support\n",
            "\n",
            "    Negative       0.79      0.77      0.78    160542\n",
            "    Positive       0.78      0.80      0.79    159458\n",
            "\n",
            "    accuracy                           0.78    320000\n",
            "   macro avg       0.78      0.78      0.78    320000\n",
            "weighted avg       0.78      0.78      0.78    320000\n",
            "\n"
          ],
          "name": "stdout"
        }
      ]
    }
  ]
}